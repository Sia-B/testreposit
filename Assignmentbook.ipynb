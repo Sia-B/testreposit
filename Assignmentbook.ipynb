{
 "cells": [
  {
   "cell_type": "markdown",
   "id": "8ae73696-be48-4768-aae7-d481b5c4fe36",
   "metadata": {},
   "source": [
    "# My Jupyter Notebook on IBM Watson Studio"
   ]
  },
  {
   "cell_type": "markdown",
   "id": "5a6be047-7158-40d1-9381-0ff49c013a8d",
   "metadata": {},
   "source": [
    "**Waasia B**\n",
    "Computer scientist"
   ]
  },
  {
   "cell_type": "markdown",
   "id": "a6f2a739-566a-494e-8dfc-92d62e17e861",
   "metadata": {},
   "source": [
    "*I'm interested in data science because it allows me to utilize data and make more informed decisions*"
   ]
  },
  {
   "cell_type": "markdown",
   "id": "0d5fb31d-d2a9-49e5-9a3b-474318060a7c",
   "metadata": {},
   "source": [
    "### My code simply gives you the sum of two numbers"
   ]
  },
  {
   "cell_type": "code",
   "execution_count": 2,
   "id": "86a6f4f0-3574-4b25-b4c9-bbb999e57067",
   "metadata": {},
   "outputs": [
    {
     "data": {
      "text/plain": [
       "40"
      ]
     },
     "execution_count": 2,
     "metadata": {},
     "output_type": "execute_result"
    }
   ],
   "source": [
    "x = 6\n",
    "y = 34\n",
    "x + y "
   ]
  },
  {
   "cell_type": "markdown",
   "id": "70a8d41b-ec09-4ef2-b86b-f76565943f8c",
   "metadata": {},
   "source": [
    "### This is a sample list of:\n",
    "1. Object 1\n",
    "2. Object 2 \n",
    "3. Object 3"
   ]
  },
  {
   "cell_type": "markdown",
   "id": "885c6640-a803-45c2-b8ff-8dece008d94c",
   "metadata": {},
   "source": [
    "#### bulleted list\n",
    "* First\n",
    "* Second\n",
    "* Third"
   ]
  },
  {
   "cell_type": "markdown",
   "id": "84f2a57d-e89f-4172-9a35-8bd49cff0ed5",
   "metadata": {},
   "source": [
    "~~That's all~~"
   ]
  },
  {
   "cell_type": "code",
   "execution_count": null,
   "id": "ebfa9bb4-c521-4a8e-961d-f53b416d5903",
   "metadata": {},
   "outputs": [],
   "source": []
  }
 ],
 "metadata": {
  "kernelspec": {
   "display_name": "Python",
   "language": "python",
   "name": "conda-env-python-py"
  },
  "language_info": {
   "codemirror_mode": {
    "name": "ipython",
    "version": 3
   },
   "file_extension": ".py",
   "mimetype": "text/x-python",
   "name": "python",
   "nbconvert_exporter": "python",
   "pygments_lexer": "ipython3",
   "version": "3.7.12"
  }
 },
 "nbformat": 4,
 "nbformat_minor": 5
}
